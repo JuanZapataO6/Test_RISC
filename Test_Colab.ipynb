{
  "nbformat": 4,
  "nbformat_minor": 0,
  "metadata": {
    "colab": {
      "name": "Test_Colab.ipynb",
      "provenance": [],
      "collapsed_sections": [],
      "authorship_tag": "ABX9TyNC2F79CPI73uhm4wz/dhnl",
      "include_colab_link": true
    },
    "kernelspec": {
      "name": "python3",
      "display_name": "Python 3"
    }
  },
  "cells": [
    {
      "cell_type": "markdown",
      "metadata": {
        "id": "view-in-github",
        "colab_type": "text"
      },
      "source": [
        "<a href=\"https://colab.research.google.com/github/JuanZapataO6/Test_RISC/blob/main/Test_Colab.ipynb\" target=\"_parent\"><img src=\"https://colab.research.google.com/assets/colab-badge.svg\" alt=\"Open In Colab\"/></a>"
      ]
    },
    {
      "cell_type": "markdown",
      "metadata": {
        "id": "TGG5yZz-FpxM"
      },
      "source": [
        "# Arquitecturas Digitales y RISC\n",
        "# Introducción a Collaboratory \n",
        "## Usando Jupyter para crear *Notebooks*\n",
        "\n",
        "\n",
        "\n",
        "<img style=\"float: right; padding-right: 10px; width: 140px\" src=\" http://drive.google.com/uc?export=view&id=1pxsPAJK5etYYZz0lg5GBhbWO8Veyte_v\">\n",
        "<img style=\"float: right; padding-right: 10px; width: 140px\" src=\"http://drive.google.com/uc?export=view&id=1GC-aPjsLpinikZNjZlGocVgUw_OO3OWJ\">\n",
        "\n",
        "**Universidad del Valle** <br>\n",
        "**Escuela de Ingeniería Eléctrica y Electrónica** <br> \n",
        "**Estudiante:** Juan  Pablo Zapata Ocampo <br> "
      ]
    },
    {
      "cell_type": "code",
      "metadata": {
        "id": "k2wITCHFFo8_",
        "outputId": "93d09d34-bae1-4c0b-dbff-7c959f6e1c75",
        "colab": {
          "base_uri": "https://localhost:8080/",
          "height": 106
        }
      },
      "source": [
        "# importa la librería de programación numérica rápida y le asigna el nombre\n",
        "# corto \"np\" como referencia rápida\n",
        "import numpy as np\n",
        "def Saludo_Kevin():\n",
        "  print(\"Inserte Aquí Texto Kevin\")\n",
        "def Saludo_Karol():\n",
        "  print(\"Inserte Aquí Texto Karol\")\n",
        "def Saludo_Harold():\n",
        "  print(\"Inserte Aquí Texto Harold\")\n",
        "def Saludo_Juan():\n",
        "  print(\"Inserte Aquí Texto Juan\")\n",
        "def Saludo_Jaime():\n",
        "  print(\"Inserte Aquí Texto Jaime\")\n",
        "Saludo_Kevin()\n",
        "Saludo_Karol()\n",
        "Saludo_Harold()\n",
        "Saludo_Juan()\n",
        "Saludo_Jaime()"
      ],
      "execution_count": 1,
      "outputs": [
        {
          "output_type": "stream",
          "text": [
            "Inserte Aquí Texto Kevin\n",
            "Inserte Aquí Texto Karol\n",
            "Inserte Aquí Texto Harold\n",
            "Inserte Aquí Texto Juan\n",
            "Inserte Aquí Texto Jaime\n"
          ],
          "name": "stdout"
        }
      ]
    },
    {
      "cell_type": "code",
      "metadata": {
        "id": "w0y9fH3ygiKB",
        "outputId": "4c0f73c8-630c-4976-d172-4d261a3f145f",
        "colab": {
          "base_uri": "https://localhost:8080/",
          "height": 35
        }
      },
      "source": [
        "# se calcula el valor promedio de los elementos del vector\n",
        "np.mean([1.2, 2, 3.3])"
      ],
      "execution_count": 3,
      "outputs": [
        {
          "output_type": "execute_result",
          "data": {
            "text/plain": [
              "2.1666666666666665"
            ]
          },
          "metadata": {
            "tags": []
          },
          "execution_count": 3
        }
      ]
    }
  ]
}